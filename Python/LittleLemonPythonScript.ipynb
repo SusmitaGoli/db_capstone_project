{
 "cells": [
  {
   "cell_type": "code",
   "execution_count": 1,
   "id": "b1c3cc4a-c5c8-4184-9a08-e88cd665bf72",
   "metadata": {},
   "outputs": [
    {
     "name": "stdout",
     "output_type": "stream",
     "text": [
      "Requirement already satisfied: mysql-connector-python in /Library/Frameworks/Python.framework/Versions/3.11/lib/python3.11/site-packages (8.2.0)\n",
      "Requirement already satisfied: protobuf<=4.21.12,>=4.21.1 in /Library/Frameworks/Python.framework/Versions/3.11/lib/python3.11/site-packages (from mysql-connector-python) (4.21.12)\n"
     ]
    }
   ],
   "source": [
    "!pip install mysql-connector-python\n"
   ]
  },
  {
   "cell_type": "code",
   "execution_count": 2,
   "id": "685a47bf-4982-43ce-a134-301d13b125fc",
   "metadata": {},
   "outputs": [],
   "source": [
    "### importing packages ##\n",
    "\n",
    "import mysql.connector as connector\n",
    "from mysql.connector import Error\n",
    "\n",
    "### establishing the mysql connection ###\n",
    "try:\n",
    "    connection =  connector.connect(user='little_lemon',password='little_lemon',port='3306',\n",
    "                                    host='127.0.0.1',auth_plugin='mysql_native_password',database = 'littlelemon_db')\n",
    "    \n",
    "except connector.Error as er:\n",
    "    print(er)\n",
    "\n",
    "cursor = connection.cursor()\n",
    "\n",
    "## Using the database ##\n",
    "cursor.execute('Use littlelemon_db;')\n",
    "print(\"\\nThe database little_lemon is set for use.\\n\")\n",
    "\n",
    "### Printing the tables in database ###\n",
    "cursor.execute('Show tables;')\n",
    "tables = cursor.fetchall()\n",
    "print('Tables in little lemon database \\n')\n",
    "print(tables)\n",
    "\n",
    "\n",
    "## Customers details whose bill is > 60 ###\n",
    "\n",
    "query = \"\"\"SELECT \n",
    "    c.CustomerName AS CustomerName,\n",
    "    c.ContactNumber AS ContactNumber,\n",
    "    c.Email AS Email\n",
    "FROM\n",
    "    Customers AS c\n",
    "        INNER JOIN\n",
    "    Orders AS o ON c.CustomerID = o.CustomerID\n",
    "WHERE\n",
    "    o.BillAmount > 60;\"\"\"\n",
    "\n",
    "cursor.execute(query)\n",
    "customers = cursor.fetchall()\n",
    "print(\"\\nCustomer details whose order >60$ \\n\")\n",
    "\n",
    "for row in customers:\n",
    "    print(row)\n"
   ]
  },
  {
   "cell_type": "code",
   "execution_count": null,
   "id": "f310d454-d593-409e-83d3-170386be87e9",
   "metadata": {},
   "outputs": [],
   "source": []
  }
 ],
 "metadata": {
  "kernelspec": {
   "display_name": "Python 3 (ipykernel)",
   "language": "python",
   "name": "python3"
  },
  "language_info": {
   "codemirror_mode": {
    "name": "ipython",
    "version": 3
   },
   "file_extension": ".py",
   "mimetype": "text/x-python",
   "name": "python",
   "nbconvert_exporter": "python",
   "pygments_lexer": "ipython3",
   "version": "3.11.5"
  }
 },
 "nbformat": 4,
 "nbformat_minor": 5
}
